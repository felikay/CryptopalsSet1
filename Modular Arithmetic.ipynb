{
 "cells": [
  {
   "cell_type": "code",
   "execution_count": null,
   "id": "initial_id",
   "metadata": {
    "collapsed": true
   },
   "outputs": [],
   "source": [
    "## QUESTION 1: GCD for Prime Numbers\n",
    "\n",
    "\n",
    "\n"
   ]
  },
  {
   "cell_type": "code",
   "execution_count": 2,
   "outputs": [
    {
     "name": "stdout",
     "output_type": "stream",
     "text": [
      "GCD:26513, u:1, v:0\n",
      "GCD:5808, u:-1, v:1\n",
      "GCD:3281, u:5, v:-4\n",
      "GCD:2527, u:-6, v:5\n",
      "GCD:754, u:11, v:-9\n",
      "GCD:265, u:-39, v:32\n",
      "GCD:224, u:89, v:-73\n",
      "GCD:41, u:-128, v:105\n",
      "GCD:19, u:729, v:-598\n",
      "GCD:3, u:-1586, v:1301\n",
      "GCD:1, u:10245, v:-8404\n"
     ]
    }
   ],
   "source": [
    "## QUESTION 2\n",
    "a = 26513\n",
    "b = 32321\n",
    "\n",
    "if a < b:\n",
    "    a,b = b,a\n",
    "\n",
    "r1,r2 = a,b\n",
    "s1,s2 = 1,0\n",
    "t1,t2 = 0,1 \n",
    "\n",
    "while r2 > 0:\n",
    "    q,r = divmod(r1,r2)\n",
    "    r1,r2 = r2,r\n",
    "    s1,s2 = s2,s1 - q * s2\n",
    "    t1,t2 = t2,t1 - q * t2\n",
    "    \n",
    "    print(f\"GCD:{r1}, u:{t1}, v:{s1}\")"
   ],
   "metadata": {
    "collapsed": false,
    "ExecuteTime": {
     "end_time": "2023-09-14T07:52:22.036830700Z",
     "start_time": "2023-09-14T07:52:22.022986Z"
    }
   },
   "id": "1d51041d7e9a1504"
  },
  {
   "cell_type": "code",
   "execution_count": 3,
   "outputs": [
    {
     "name": "stdout",
     "output_type": "stream",
     "text": [
      " a = 5\n",
      " b = 4\n"
     ]
    }
   ],
   "source": [
    "## QUESTION 3\n",
    "## Finding the smaller integer\n",
    "print(f\" a = {11%6}\")\n",
    "print(f\" b = {8146798528947%17}\")"
   ],
   "metadata": {
    "collapsed": false,
    "ExecuteTime": {
     "end_time": "2023-09-14T07:59:43.224307800Z",
     "start_time": "2023-09-14T07:59:43.164654700Z"
    }
   },
   "id": "dc95127fe1691897"
  },
  {
   "cell_type": "code",
   "execution_count": null,
   "outputs": [],
   "source": [
    "## QUESTION 4\n"
   ],
   "metadata": {
    "collapsed": false
   },
   "id": "bb49421a572185f2"
  }
 ],
 "metadata": {
  "kernelspec": {
   "display_name": "Python 3",
   "language": "python",
   "name": "python3"
  },
  "language_info": {
   "codemirror_mode": {
    "name": "ipython",
    "version": 2
   },
   "file_extension": ".py",
   "mimetype": "text/x-python",
   "name": "python",
   "nbconvert_exporter": "python",
   "pygments_lexer": "ipython2",
   "version": "2.7.6"
  }
 },
 "nbformat": 4,
 "nbformat_minor": 5
}
