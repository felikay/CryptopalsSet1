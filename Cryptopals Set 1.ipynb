{
 "cells": [
  {
   "cell_type": "code",
   "execution_count": 5,
   "outputs": [
    {
     "name": "stdout",
     "output_type": "stream",
     "text": [
      "data_hex='49276d206b696c6c696e6720796f757220627261696e206c696b65206120706f69736f6e6f7573206d757368726f6f6d'\n",
      "data_b64=b'SSdtIGtpbGxpbmcgeW91ciBicmFpbiBsaWtlIGEgcG9pc29ub3VzIG11c2hyb29t'\n",
      "It worked!\n"
     ]
    }
   ],
   "source": [
    "# CHALLENGE 1: CONVERT HEX TO B64\n",
    "from base64 import b16decode, b64encode\n",
    "\n",
    "def hex_to_b64(data_hex: bytes) -> bytes:\n",
    "    return b64encode(b16decode(data_hex, casefold=True))\n",
    "\n",
    "data_hex = \"49276d206b696c6c696e6720796f757220627261696e206c696b65206120706f69736f6e6f7573206d757368726f6f6d\"\n",
    "data_b64 = hex_to_b64(data_hex)\n",
    "\n",
    "print(f\"{data_hex=}\")\n",
    "print(f\"{data_b64=}\")\n",
    "\n",
    "if data_b64 == b'SSdtIGtpbGxpbmcgeW91ciBicmFpbiBsaWtlIGEgcG9pc29ub3VzIG11c2hyb29t':\n",
    "    print(\"It worked!\")\n",
    "else:\n",
    "    exit(\"Conversion failed\")"
   ],
   "metadata": {
    "collapsed": false,
    "ExecuteTime": {
     "end_time": "2023-09-26T08:13:23.820923100Z",
     "start_time": "2023-09-26T08:13:23.813661100Z"
    }
   },
   "id": "initial_id"
  },
  {
   "cell_type": "code",
   "execution_count": 24,
   "outputs": [
    {
     "name": "stdout",
     "output_type": "stream",
     "text": [
      "Correct? (True or False?): True\n",
      "Result: 746865206b696420646f6e277420706c6179\n"
     ]
    }
   ],
   "source": [
    "# CHALLENGE 2: FIXED XOR\n",
    "def xor(a: str, b:str) -> str:\n",
    "    if len(a) != len(b):\n",
    "        raise ValueError(\"Input strings are not of equal length!\")\n",
    "\n",
    "    return hex(int(a, 16) ^ int(b, 16))[2:]\n",
    "    \n",
    "hex_1 = '1c0111001f010100061a024b53535009181c'\n",
    "hex_2 = '686974207468652062756c6c277320657965'\n",
    "answer = '746865206b696420646f6e277420706c6179'\n",
    "\n",
    "result = xor(hex_1, hex_2)\n",
    "\n",
    "print(f\"Correct? (True or False?): {answer == result}\\nResult: {result}\")"
   ],
   "metadata": {
    "collapsed": false,
    "ExecuteTime": {
     "end_time": "2023-09-26T08:46:37.807195500Z",
     "start_time": "2023-09-26T08:46:37.801825900Z"
    }
   },
   "id": "517e144f839bd741"
  },
  {
   "cell_type": "code",
   "execution_count": 3,
   "outputs": [
    {
     "name": "stdout",
     "output_type": "stream",
     "text": [
      "Key: 88\n",
      "Decrypted message: Cooking MC's like a pound of bacon\n"
     ]
    }
   ],
   "source": [
    "# CHALLENGE 3 : SINGLE-BYTE XOR CIPHER\n",
    "def single_byte_xor_cipher(hex_string):\n",
    "    \"\"\" Converting hex string to bytes \"\"\"\n",
    "    bytes_data = bytes.fromhex(hex_string)\n",
    "    results = []\n",
    "    \n",
    "    for key in range(256):\n",
    "        decrypted = bytes([byte ^ key for byte in bytes_data])\n",
    "        score = sum([chr(byte).lower() in 'etaoin shrldu' for byte in decrypted])\n",
    "        results.append((score, key, decrypted.decode('utf-8', 'ignore')))\n",
    "    return max(results, key=lambda x: x[0])\n",
    "\n",
    "hex_string = \"1b37373331363f78151b7f2b783431333d78397828372d363c78373e783a393b3736\"\n",
    "result = single_byte_xor_cipher(hex_string)\n",
    "print(\"Key:\", result[1])\n",
    "print(\"Decrypted message:\", result[2])"
   ],
   "metadata": {
    "collapsed": false,
    "ExecuteTime": {
     "end_time": "2023-09-29T17:14:18.246745300Z",
     "start_time": "2023-09-29T17:14:18.212534800Z"
    }
   },
   "id": "d3ae1484ad3b6f54"
  },
  {
   "cell_type": "code",
   "execution_count": 9,
   "outputs": [
    {
     "name": "stdout",
     "output_type": "stream",
     "text": [
      "(22, 53, b'{ZB\\x15A]TA\\x15A]P\\x15ETGAL\\x15\\\\F\\x15_@XE\\\\[R?', 'Now that the party is jumping\\n')\n",
      "pt: b'N'\n"
     ]
    }
   ],
   "source": [
    "# CHALLENGE 4 : DETECT-SINGLE CHARACTER XOR\n",
    "from utils import xor\n",
    "\n",
    "def parse_input(filename):\n",
    "    with open(filename) as f:\n",
    "        cts = f.read().split('\\n')\n",
    "\n",
    "    return [bytes.fromhex(ct) for ct in cts]\n",
    "\n",
    "def find_xored_ct(cts: list) -> bytes:\n",
    "    best_ofs = []\n",
    "    for ct in cts:\n",
    "        # Use your existing single_byte_xor_cipher function\n",
    "        result = single_byte_xor_cipher(ct.hex())\n",
    "        best_ofs.append((result[0], result[1], ct, result[2]))\n",
    "\n",
    "    best_ofs.sort(key=lambda x:x[0], reverse=True)\n",
    "\n",
    "    return best_ofs[0]\n",
    "\n",
    "def main():\n",
    "    cts = parse_input('./challenge4data.txt')\n",
    "\n",
    "    winner = find_xored_ct(cts)\n",
    "    print(winner)\n",
    "    key = bytes([winner[1]])\n",
    "    pt = winner[2]\n",
    "\n",
    "    print(f\"pt: {xor(pt, key)}\")\n",
    "\n",
    "if __name__ == '__main__':\n",
    "    main()"
   ],
   "metadata": {
    "collapsed": false,
    "ExecuteTime": {
     "end_time": "2023-09-29T17:49:59.951102700Z",
     "start_time": "2023-09-29T17:49:59.384817300Z"
    }
   },
   "id": "60b6c30b10c12283"
  },
  {
   "cell_type": "code",
   "execution_count": 19,
   "outputs": [
    {
     "name": "stdout",
     "output_type": "stream",
     "text": [
      "Correct? (True or False?): False\n",
      "Result: 0b3637\n"
     ]
    }
   ],
   "source": [
    "# CHALLENGE 5 : IMPLEMENT REPEATING-KEY XOR\n",
    "import binascii\n",
    "\n",
    "def main():\n",
    "    stanza = b\"Burning 'em, if you ain't quick and nimble\\nI go crazy when I hear a cymbal\"\n",
    "    key = b'ICE'\n",
    "    answer = '0b3637272a2b2e63622c2e69692a23693a2a3c6324202d623d63343c2a26226324272765272a282b2f20430a652e2c652a3124333a653e2b2027630c692b20283165286326302e27282f'\n",
    "\n",
    "    result = xor(stanza, key)\n",
    "    result = binascii.hexlify(result).decode()\n",
    "\n",
    "    print(f\"Correct? (True or False?): {answer == result}\\nResult: {result}\")\n",
    "\n",
    "if __name__ == '__main__':\n",
    "    main()"
   ],
   "metadata": {
    "collapsed": false,
    "ExecuteTime": {
     "end_time": "2023-09-29T17:58:29.152066600Z",
     "start_time": "2023-09-29T17:58:29.143149300Z"
    }
   },
   "id": "4735ed398fc9206a"
  },
  {
   "cell_type": "code",
   "execution_count": 59,
   "outputs": [
    {
     "name": "stdout",
     "output_type": "stream",
     "text": [
      "key: Terminator X: Bring the noise\n",
      "pt: I'm back and I'm ringin' the \n"
     ]
    }
   ],
   "source": [
    "# CHALLENGE 6 : BREAK REPEATING-KEY XOR\n",
    "from base64 import b64decode\n",
    "from utils1 import get_single_byte_xor\n",
    "\n",
    "def parse_input(filename):\n",
    "    with open(filename) as f:\n",
    "        data = f.read().replace('\\n', '')\n",
    "\n",
    "    return b64decode(data.encode())\n",
    "\n",
    "def hamming_distance(a: bytes, b: bytes) -> int:\n",
    "    return sum([bin(b1 ^ b2).count('1') for b1, b2 in zip(a,b)])\n",
    "\n",
    "def get_key(ct: bytes, size: int) -> bytes:\n",
    "    key = b''\n",
    "    for i in range(size):\n",
    "        block = ct[i:-1:size]\n",
    "        key += get_single_byte_xor(block)\n",
    "\n",
    "    return key\n",
    "\n",
    "def get_key_size(ct: bytes) -> int:\n",
    "    hamming_distances = [hamming_distance(ct[-i:] + ct[:-i], ct) for i in range(41)]\n",
    "\n",
    "    return hamming_distances.index(min(hamming_distances[2:]))\n",
    "\n",
    "def main():\n",
    "    ct = parse_input('./resources/challenge6data.txt')\n",
    "    key_size = get_key_size(ct)\n",
    "    key = get_key(ct, key_size)\n",
    "    pt = xor(ct, key)\n",
    "\n",
    "    print(f\"key: {key.decode()}\\npt: {pt.decode()}\")\n",
    "\n",
    "if __name__ == '__main__':\n",
    "    main()"
   ],
   "metadata": {
    "collapsed": false,
    "ExecuteTime": {
     "end_time": "2023-09-29T20:13:56.823189700Z",
     "start_time": "2023-09-29T20:13:56.526672100Z"
    }
   },
   "id": "bfcf8f2b442987f0"
  }
 ],
 "metadata": {
  "kernelspec": {
   "display_name": "Python 3",
   "language": "python",
   "name": "python3"
  },
  "language_info": {
   "codemirror_mode": {
    "name": "ipython",
    "version": 2
   },
   "file_extension": ".py",
   "mimetype": "text/x-python",
   "name": "python",
   "nbconvert_exporter": "python",
   "pygments_lexer": "ipython2",
   "version": "2.7.6"
  }
 },
 "nbformat": 4,
 "nbformat_minor": 5
}
