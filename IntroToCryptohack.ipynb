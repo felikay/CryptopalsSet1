{
 "cells": [
  {
   "cell_type": "code",
   "execution_count": 1,
   "id": "initial_id",
   "metadata": {
    "collapsed": true,
    "ExecuteTime": {
     "end_time": "2023-09-05T11:48:50.512772100Z",
     "start_time": "2023-09-05T11:48:50.507150Z"
    }
   },
   "outputs": [
    {
     "name": "stdout",
     "output_type": "stream",
     "text": [
      "Byte value of the string: b'r\\xbc\\xa9\\xb6\\x8f\\xc1j\\xc7\\xbe\\xeb\\x8f\\x84\\x9d\\xca\\x1d\\x8ax>\\x8a\\xcf\\x96y\\xbf\\x92i\\xf7\\xbf'\n"
     ]
    }
   ],
   "source": [
    "# Changing one string of hex values to bytes\n",
    "import binascii\n",
    "hexa_string = '72bca9b68fc16ac7beeb8f849dca1d8a783e8acf9679bf9269f7bf'\n",
    "# Insert the hex string you want to convert\n",
    "bytes_value = binascii.unhexlify(hexa_string)\n",
    "print('Byte value of the string:', bytes_value)"
   ]
  },
  {
   "cell_type": "code",
   "execution_count": null,
   "outputs": [],
   "source": [
    "# Decoding a hex string onto bytes then encoding to Base64\n",
    "# First use the above code to do so, then encode to Base64\n",
    "import base64\n",
    "my_string = '72bca9b68fc16ac7beeb8f849dca1d8a783e8acf9679bf9269f7bf'\n",
    "decoded_string = base64.b64decode(my_string)\n",
    "print('Base64 of the string:', decoded_string.decode('utf-8'))"
   ],
   "metadata": {
    "collapsed": false
   },
   "id": "8dd7d15d7d5964ce"
  }
 ],
 "metadata": {
  "kernelspec": {
   "display_name": "Python 3",
   "language": "python",
   "name": "python3"
  },
  "language_info": {
   "codemirror_mode": {
    "name": "ipython",
    "version": 2
   },
   "file_extension": ".py",
   "mimetype": "text/x-python",
   "name": "python",
   "nbconvert_exporter": "python",
   "pygments_lexer": "ipython2",
   "version": "2.7.6"
  }
 },
 "nbformat": 4,
 "nbformat_minor": 5
}
